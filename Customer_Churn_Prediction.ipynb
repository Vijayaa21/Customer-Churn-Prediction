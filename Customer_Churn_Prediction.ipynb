
import pandas as pd
import numpy as np
import matplotlib.pyplot as plt
import seaborn as sns

from sklearn.model_selection import train_test_split
from sklearn.preprocessing import LabelEncoder, StandardScaler
from sklearn.ensemble import RandomForestClassifier
from sklearn.metrics import accuracy_score, classification_report, confusion_matrix, roc_auc_score


from google.colab import files
uploaded = files.upload()

# Make sure you upload the file:
# WA_Fn-UseC_-Telco-Customer-Churn.csv (download from Kaggle)
df = pd.read_csv("WA_Fn-UseC_-Telco-Customer-Churn.csv")

print("Dataset Shape:", df.shape)
df.head()


# Data Cleaning

# Drop CustomerID (not useful for prediction)
df.drop("customerID", axis=1, inplace=True)

# Convert TotalCharges to numeric
df['TotalCharges'] = pd.to_numeric(df['TotalCharges'], errors='coerce')
df['TotalCharges'].fillna(df['TotalCharges'].median(), inplace=True)

# Check for nulls
print("Null Values:\n", df.isnull().sum())


# Exploratory Data Analysis (EDA)

# Churn distribution
plt.figure(figsize=(6,4))
sns.countplot(x='Churn', data=df, palette="Set2")
plt.title("Churn Distribution")
plt.show()

# Contract vs Churn
plt.figure(figsize=(6,4))
sns.countplot(x='Contract', hue='Churn', data=df, palette="Set1")
plt.title("Churn by Contract Type")
plt.show()

# Monthly charges distribution
plt.figure(figsize=(6,4))
sns.histplot(df['MonthlyCharges'], kde=True, bins=30, color="skyblue")
plt.title("Distribution of Monthly Charges")
plt.show()


# Encoding Categorical Variables

# Encode all categorical columns
for col in df.select_dtypes(include=['object']).columns:
    le = LabelEncoder()
    df[col] = le.fit_transform(df[col])

df.head()


# Feature Scaling

scaler = StandardScaler()
num_cols = ['tenure', 'MonthlyCharges', 'TotalCharges']
df[num_cols] = scaler.fit_transform(df[num_cols])


# Train-Test Split

X = df.drop("Churn", axis=1)
y = df["Churn"]

X_train, X_test, y_train, y_test = train_test_split(
    X, y, test_size=0.2, random_state=42, stratify=y
)

print("Training Data Shape:", X_train.shape)
print("Testing Data Shape:", X_test.shape)


# Model Training (Random Forest)

model = RandomForestClassifier(
    n_estimators=200,
    random_state=42,
    class_weight="balanced"
)
model.fit(X_train, y_train)

y_pred = model.predict(X_test)


# Evaluation

print("✅ Accuracy:", accuracy_score(y_test, y_pred))
print("✅ ROC-AUC:", roc_auc_score(y_test, model.predict_proba(X_test)[:,1]))
print("\nClassification Report:\n", classification_report(y_test, y_pred))

# Confusion Matrix
cm = confusion_matrix(y_test, y_pred)
plt.figure(figsize=(5,4))
sns.heatmap(cm, annot=True, fmt="d", cmap="Blues", xticklabels=["No Churn", "Churn"], yticklabels=["No Churn", "Churn"])
plt.title("Confusion Matrix")
plt.show()


# Feature Importance

feat_importance = pd.Series(model.feature_importances_, index=X.columns)
plt.figure(figsize=(8,6))
feat_importance.nlargest(10).plot(kind="barh", color="teal")
plt.title("Top 10 Important Features for Churn Prediction")
plt.show()
